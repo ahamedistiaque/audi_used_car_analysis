{
  "nbformat": 4,
  "nbformat_minor": 0,
  "metadata": {
    "colab": {
      "name": "audi_used_car_ML.ipynb",
      "provenance": [],
      "collapsed_sections": [
        "pgfGq-M1z6CP",
        "tdCux2Da1mZl"
      ],
      "mount_file_id": "1EC5ihHF7xSJT_Fn7D_oWS5TqvKYeSoGv",
      "authorship_tag": "ABX9TyMIR6vgLQX03Jp3sAg8SXhJ",
      "include_colab_link": true
    },
    "kernelspec": {
      "name": "python3",
      "display_name": "Python 3"
    },
    "language_info": {
      "name": "python"
    }
  },
  "cells": [
    {
      "cell_type": "markdown",
      "metadata": {
        "id": "view-in-github",
        "colab_type": "text"
      },
      "source": [
        "<a href=\"https://colab.research.google.com/github/ahamedistiaque/audi_used_car_analysis/blob/main/audi_used_car_ML.ipynb\" target=\"_parent\"><img src=\"https://colab.research.google.com/assets/colab-badge.svg\" alt=\"Open In Colab\"/></a>"
      ]
    },
    {
      "cell_type": "code",
      "execution_count": 3,
      "metadata": {
        "id": "jDfi6CpnfgVr"
      },
      "outputs": [],
      "source": [
        "import numpy as np \n",
        "import pandas as pd \n",
        "\n",
        "import matplotlib.pyplot as plt\n",
        "import seaborn as sns\n",
        "\n",
        "from sklearn.model_selection import train_test_split\n",
        "from sklearn.linear_model import LinearRegression\n",
        "from sklearn.metrics import mean_squared_error, mean_absolute_error, r2_score\n",
        "\n",
        "sns.set_context(\"talk\")\n",
        "sns.set_style(\"darkgrid\")"
      ]
    },
    {
      "cell_type": "code",
      "source": [
        "path='/content/drive/MyDrive/Colab Notebooks/Data Processing for Machine Learning With Python/audi.csv'"
      ],
      "metadata": {
        "id": "6OQBp-3-g_Y_"
      },
      "execution_count": 4,
      "outputs": []
    },
    {
      "cell_type": "code",
      "source": [
        "df=pd.read_csv(path)\n",
        "df.head(5)"
      ],
      "metadata": {
        "colab": {
          "base_uri": "https://localhost:8080/",
          "height": 206
        },
        "id": "4KrDMkNKfmHF",
        "outputId": "b2234ad1-10e7-44e6-c482-807e938b5a9f"
      },
      "execution_count": 5,
      "outputs": [
        {
          "output_type": "execute_result",
          "data": {
            "text/plain": [
              "  model  year  price transmission  mileage fuelType   mpg  engineSize\n",
              "0    A1  2017  12500       Manual    15735   Petrol  55.4         1.4\n",
              "1    A6  2016  16500    Automatic    36203   Diesel  64.2         2.0\n",
              "2    A1  2016  11000       Manual    29946   Petrol  55.4         1.4\n",
              "3    A4  2017  16800    Automatic    25952   Diesel  67.3         2.0\n",
              "4    A3  2019  17300       Manual     1998   Petrol  49.6         1.0"
            ],
            "text/html": [
              "\n",
              "  <div id=\"df-df3d042e-2e75-49bb-b6de-3e3607da46c7\">\n",
              "    <div class=\"colab-df-container\">\n",
              "      <div>\n",
              "<style scoped>\n",
              "    .dataframe tbody tr th:only-of-type {\n",
              "        vertical-align: middle;\n",
              "    }\n",
              "\n",
              "    .dataframe tbody tr th {\n",
              "        vertical-align: top;\n",
              "    }\n",
              "\n",
              "    .dataframe thead th {\n",
              "        text-align: right;\n",
              "    }\n",
              "</style>\n",
              "<table border=\"1\" class=\"dataframe\">\n",
              "  <thead>\n",
              "    <tr style=\"text-align: right;\">\n",
              "      <th></th>\n",
              "      <th>model</th>\n",
              "      <th>year</th>\n",
              "      <th>price</th>\n",
              "      <th>transmission</th>\n",
              "      <th>mileage</th>\n",
              "      <th>fuelType</th>\n",
              "      <th>mpg</th>\n",
              "      <th>engineSize</th>\n",
              "    </tr>\n",
              "  </thead>\n",
              "  <tbody>\n",
              "    <tr>\n",
              "      <th>0</th>\n",
              "      <td>A1</td>\n",
              "      <td>2017</td>\n",
              "      <td>12500</td>\n",
              "      <td>Manual</td>\n",
              "      <td>15735</td>\n",
              "      <td>Petrol</td>\n",
              "      <td>55.4</td>\n",
              "      <td>1.4</td>\n",
              "    </tr>\n",
              "    <tr>\n",
              "      <th>1</th>\n",
              "      <td>A6</td>\n",
              "      <td>2016</td>\n",
              "      <td>16500</td>\n",
              "      <td>Automatic</td>\n",
              "      <td>36203</td>\n",
              "      <td>Diesel</td>\n",
              "      <td>64.2</td>\n",
              "      <td>2.0</td>\n",
              "    </tr>\n",
              "    <tr>\n",
              "      <th>2</th>\n",
              "      <td>A1</td>\n",
              "      <td>2016</td>\n",
              "      <td>11000</td>\n",
              "      <td>Manual</td>\n",
              "      <td>29946</td>\n",
              "      <td>Petrol</td>\n",
              "      <td>55.4</td>\n",
              "      <td>1.4</td>\n",
              "    </tr>\n",
              "    <tr>\n",
              "      <th>3</th>\n",
              "      <td>A4</td>\n",
              "      <td>2017</td>\n",
              "      <td>16800</td>\n",
              "      <td>Automatic</td>\n",
              "      <td>25952</td>\n",
              "      <td>Diesel</td>\n",
              "      <td>67.3</td>\n",
              "      <td>2.0</td>\n",
              "    </tr>\n",
              "    <tr>\n",
              "      <th>4</th>\n",
              "      <td>A3</td>\n",
              "      <td>2019</td>\n",
              "      <td>17300</td>\n",
              "      <td>Manual</td>\n",
              "      <td>1998</td>\n",
              "      <td>Petrol</td>\n",
              "      <td>49.6</td>\n",
              "      <td>1.0</td>\n",
              "    </tr>\n",
              "  </tbody>\n",
              "</table>\n",
              "</div>\n",
              "      <button class=\"colab-df-convert\" onclick=\"convertToInteractive('df-df3d042e-2e75-49bb-b6de-3e3607da46c7')\"\n",
              "              title=\"Convert this dataframe to an interactive table.\"\n",
              "              style=\"display:none;\">\n",
              "        \n",
              "  <svg xmlns=\"http://www.w3.org/2000/svg\" height=\"24px\"viewBox=\"0 0 24 24\"\n",
              "       width=\"24px\">\n",
              "    <path d=\"M0 0h24v24H0V0z\" fill=\"none\"/>\n",
              "    <path d=\"M18.56 5.44l.94 2.06.94-2.06 2.06-.94-2.06-.94-.94-2.06-.94 2.06-2.06.94zm-11 1L8.5 8.5l.94-2.06 2.06-.94-2.06-.94L8.5 2.5l-.94 2.06-2.06.94zm10 10l.94 2.06.94-2.06 2.06-.94-2.06-.94-.94-2.06-.94 2.06-2.06.94z\"/><path d=\"M17.41 7.96l-1.37-1.37c-.4-.4-.92-.59-1.43-.59-.52 0-1.04.2-1.43.59L10.3 9.45l-7.72 7.72c-.78.78-.78 2.05 0 2.83L4 21.41c.39.39.9.59 1.41.59.51 0 1.02-.2 1.41-.59l7.78-7.78 2.81-2.81c.8-.78.8-2.07 0-2.86zM5.41 20L4 18.59l7.72-7.72 1.47 1.35L5.41 20z\"/>\n",
              "  </svg>\n",
              "      </button>\n",
              "      \n",
              "  <style>\n",
              "    .colab-df-container {\n",
              "      display:flex;\n",
              "      flex-wrap:wrap;\n",
              "      gap: 12px;\n",
              "    }\n",
              "\n",
              "    .colab-df-convert {\n",
              "      background-color: #E8F0FE;\n",
              "      border: none;\n",
              "      border-radius: 50%;\n",
              "      cursor: pointer;\n",
              "      display: none;\n",
              "      fill: #1967D2;\n",
              "      height: 32px;\n",
              "      padding: 0 0 0 0;\n",
              "      width: 32px;\n",
              "    }\n",
              "\n",
              "    .colab-df-convert:hover {\n",
              "      background-color: #E2EBFA;\n",
              "      box-shadow: 0px 1px 2px rgba(60, 64, 67, 0.3), 0px 1px 3px 1px rgba(60, 64, 67, 0.15);\n",
              "      fill: #174EA6;\n",
              "    }\n",
              "\n",
              "    [theme=dark] .colab-df-convert {\n",
              "      background-color: #3B4455;\n",
              "      fill: #D2E3FC;\n",
              "    }\n",
              "\n",
              "    [theme=dark] .colab-df-convert:hover {\n",
              "      background-color: #434B5C;\n",
              "      box-shadow: 0px 1px 3px 1px rgba(0, 0, 0, 0.15);\n",
              "      filter: drop-shadow(0px 1px 2px rgba(0, 0, 0, 0.3));\n",
              "      fill: #FFFFFF;\n",
              "    }\n",
              "  </style>\n",
              "\n",
              "      <script>\n",
              "        const buttonEl =\n",
              "          document.querySelector('#df-df3d042e-2e75-49bb-b6de-3e3607da46c7 button.colab-df-convert');\n",
              "        buttonEl.style.display =\n",
              "          google.colab.kernel.accessAllowed ? 'block' : 'none';\n",
              "\n",
              "        async function convertToInteractive(key) {\n",
              "          const element = document.querySelector('#df-df3d042e-2e75-49bb-b6de-3e3607da46c7');\n",
              "          const dataTable =\n",
              "            await google.colab.kernel.invokeFunction('convertToInteractive',\n",
              "                                                     [key], {});\n",
              "          if (!dataTable) return;\n",
              "\n",
              "          const docLinkHtml = 'Like what you see? Visit the ' +\n",
              "            '<a target=\"_blank\" href=https://colab.research.google.com/notebooks/data_table.ipynb>data table notebook</a>'\n",
              "            + ' to learn more about interactive tables.';\n",
              "          element.innerHTML = '';\n",
              "          dataTable['output_type'] = 'display_data';\n",
              "          await google.colab.output.renderOutput(dataTable, element);\n",
              "          const docLink = document.createElement('div');\n",
              "          docLink.innerHTML = docLinkHtml;\n",
              "          element.appendChild(docLink);\n",
              "        }\n",
              "      </script>\n",
              "    </div>\n",
              "  </div>\n",
              "  "
            ]
          },
          "metadata": {},
          "execution_count": 5
        }
      ]
    },
    {
      "cell_type": "markdown",
      "source": [
        "### Meaning of each column\n",
        "1.   model :Audi Car Model\n",
        "2.   Price\t: Car Price\n",
        "3.   transmission\t: Total transmission\n",
        "4.   mileage :Total miles travelled\n",
        "5.   fuelType\t: Type of fuel runs the car\n",
        "6.   mpg\t: Runs car Miles per gallon\t\n",
        "7.   engineSize\t: volume of the cylinders in engine\n",
        "8.   Year\t: Car  Making year\n"
      ],
      "metadata": {
        "id": "QzZ2oqqYweCF"
      }
    },
    {
      "cell_type": "code",
      "source": [
        "print(\"Number of rows\",df.shape[0])\n",
        "print(\"Number of columns\",df.shape[1])"
      ],
      "metadata": {
        "colab": {
          "base_uri": "https://localhost:8080/"
        },
        "id": "d81B39qafmDy",
        "outputId": "b5fb667a-4629-43e3-8a1f-057b257a38eb"
      },
      "execution_count": 6,
      "outputs": [
        {
          "output_type": "stream",
          "name": "stdout",
          "text": [
            "Number of rows 10668\n",
            "Number of columns 8\n"
          ]
        }
      ]
    },
    {
      "cell_type": "code",
      "source": [
        "# check for the data types\n",
        "df.info()"
      ],
      "metadata": {
        "colab": {
          "base_uri": "https://localhost:8080/"
        },
        "id": "mS598iKCfmAo",
        "outputId": "1a3a1c3b-f3be-4efe-e5d0-8ac590f5f586"
      },
      "execution_count": 7,
      "outputs": [
        {
          "output_type": "stream",
          "name": "stdout",
          "text": [
            "<class 'pandas.core.frame.DataFrame'>\n",
            "RangeIndex: 10668 entries, 0 to 10667\n",
            "Data columns (total 8 columns):\n",
            " #   Column        Non-Null Count  Dtype  \n",
            "---  ------        --------------  -----  \n",
            " 0   model         10668 non-null  object \n",
            " 1   year          10668 non-null  int64  \n",
            " 2   price         10668 non-null  int64  \n",
            " 3   transmission  10668 non-null  object \n",
            " 4   mileage       10668 non-null  int64  \n",
            " 5   fuelType      10668 non-null  object \n",
            " 6   mpg           10668 non-null  float64\n",
            " 7   engineSize    10668 non-null  float64\n",
            "dtypes: float64(2), int64(3), object(3)\n",
            "memory usage: 666.9+ KB\n"
          ]
        }
      ]
    },
    {
      "cell_type": "code",
      "source": [
        "df.columns"
      ],
      "metadata": {
        "colab": {
          "base_uri": "https://localhost:8080/"
        },
        "id": "8NGnhqf5NhbU",
        "outputId": "05f2e966-627f-4a9a-b133-7d2d7fe23247"
      },
      "execution_count": 44,
      "outputs": [
        {
          "output_type": "execute_result",
          "data": {
            "text/plain": [
              "Index(['model', 'year', 'price', 'transmission', 'mileage', 'fuelType', 'mpg',\n",
              "       'engineSize'],\n",
              "      dtype='object')"
            ]
          },
          "metadata": {},
          "execution_count": 44
        }
      ]
    },
    {
      "cell_type": "code",
      "source": [
        "# Missing values in the dataset\n",
        "df.isnull().sum()"
      ],
      "metadata": {
        "colab": {
          "base_uri": "https://localhost:8080/"
        },
        "id": "Gg3A8yYYxuYV",
        "outputId": "80fb26c3-437f-401c-a874-1dac118b9857"
      },
      "execution_count": 8,
      "outputs": [
        {
          "output_type": "execute_result",
          "data": {
            "text/plain": [
              "model           0\n",
              "year            0\n",
              "price           0\n",
              "transmission    0\n",
              "mileage         0\n",
              "fuelType        0\n",
              "mpg             0\n",
              "engineSize      0\n",
              "dtype: int64"
            ]
          },
          "metadata": {},
          "execution_count": 8
        }
      ]
    },
    {
      "cell_type": "code",
      "source": [
        "# Data statistics\n",
        "df.describe()"
      ],
      "metadata": {
        "colab": {
          "base_uri": "https://localhost:8080/",
          "height": 300
        },
        "id": "xE7yguAPfl9a",
        "outputId": "4dbe3c34-ab40-47d1-c2d6-7923f1486c5a"
      },
      "execution_count": 9,
      "outputs": [
        {
          "output_type": "execute_result",
          "data": {
            "text/plain": [
              "               year          price        mileage           mpg    engineSize\n",
              "count  10668.000000   10668.000000   10668.000000  10668.000000  10668.000000\n",
              "mean    2017.100675   22896.685039   24827.244001     50.770022      1.930709\n",
              "std        2.167494   11714.841888   23505.257205     12.949782      0.602957\n",
              "min     1997.000000    1490.000000       1.000000     18.900000      0.000000\n",
              "25%     2016.000000   15130.750000    5968.750000     40.900000      1.500000\n",
              "50%     2017.000000   20200.000000   19000.000000     49.600000      2.000000\n",
              "75%     2019.000000   27990.000000   36464.500000     58.900000      2.000000\n",
              "max     2020.000000  145000.000000  323000.000000    188.300000      6.300000"
            ],
            "text/html": [
              "\n",
              "  <div id=\"df-955a12ae-9f5e-4423-bfb0-ec0591753a40\">\n",
              "    <div class=\"colab-df-container\">\n",
              "      <div>\n",
              "<style scoped>\n",
              "    .dataframe tbody tr th:only-of-type {\n",
              "        vertical-align: middle;\n",
              "    }\n",
              "\n",
              "    .dataframe tbody tr th {\n",
              "        vertical-align: top;\n",
              "    }\n",
              "\n",
              "    .dataframe thead th {\n",
              "        text-align: right;\n",
              "    }\n",
              "</style>\n",
              "<table border=\"1\" class=\"dataframe\">\n",
              "  <thead>\n",
              "    <tr style=\"text-align: right;\">\n",
              "      <th></th>\n",
              "      <th>year</th>\n",
              "      <th>price</th>\n",
              "      <th>mileage</th>\n",
              "      <th>mpg</th>\n",
              "      <th>engineSize</th>\n",
              "    </tr>\n",
              "  </thead>\n",
              "  <tbody>\n",
              "    <tr>\n",
              "      <th>count</th>\n",
              "      <td>10668.000000</td>\n",
              "      <td>10668.000000</td>\n",
              "      <td>10668.000000</td>\n",
              "      <td>10668.000000</td>\n",
              "      <td>10668.000000</td>\n",
              "    </tr>\n",
              "    <tr>\n",
              "      <th>mean</th>\n",
              "      <td>2017.100675</td>\n",
              "      <td>22896.685039</td>\n",
              "      <td>24827.244001</td>\n",
              "      <td>50.770022</td>\n",
              "      <td>1.930709</td>\n",
              "    </tr>\n",
              "    <tr>\n",
              "      <th>std</th>\n",
              "      <td>2.167494</td>\n",
              "      <td>11714.841888</td>\n",
              "      <td>23505.257205</td>\n",
              "      <td>12.949782</td>\n",
              "      <td>0.602957</td>\n",
              "    </tr>\n",
              "    <tr>\n",
              "      <th>min</th>\n",
              "      <td>1997.000000</td>\n",
              "      <td>1490.000000</td>\n",
              "      <td>1.000000</td>\n",
              "      <td>18.900000</td>\n",
              "      <td>0.000000</td>\n",
              "    </tr>\n",
              "    <tr>\n",
              "      <th>25%</th>\n",
              "      <td>2016.000000</td>\n",
              "      <td>15130.750000</td>\n",
              "      <td>5968.750000</td>\n",
              "      <td>40.900000</td>\n",
              "      <td>1.500000</td>\n",
              "    </tr>\n",
              "    <tr>\n",
              "      <th>50%</th>\n",
              "      <td>2017.000000</td>\n",
              "      <td>20200.000000</td>\n",
              "      <td>19000.000000</td>\n",
              "      <td>49.600000</td>\n",
              "      <td>2.000000</td>\n",
              "    </tr>\n",
              "    <tr>\n",
              "      <th>75%</th>\n",
              "      <td>2019.000000</td>\n",
              "      <td>27990.000000</td>\n",
              "      <td>36464.500000</td>\n",
              "      <td>58.900000</td>\n",
              "      <td>2.000000</td>\n",
              "    </tr>\n",
              "    <tr>\n",
              "      <th>max</th>\n",
              "      <td>2020.000000</td>\n",
              "      <td>145000.000000</td>\n",
              "      <td>323000.000000</td>\n",
              "      <td>188.300000</td>\n",
              "      <td>6.300000</td>\n",
              "    </tr>\n",
              "  </tbody>\n",
              "</table>\n",
              "</div>\n",
              "      <button class=\"colab-df-convert\" onclick=\"convertToInteractive('df-955a12ae-9f5e-4423-bfb0-ec0591753a40')\"\n",
              "              title=\"Convert this dataframe to an interactive table.\"\n",
              "              style=\"display:none;\">\n",
              "        \n",
              "  <svg xmlns=\"http://www.w3.org/2000/svg\" height=\"24px\"viewBox=\"0 0 24 24\"\n",
              "       width=\"24px\">\n",
              "    <path d=\"M0 0h24v24H0V0z\" fill=\"none\"/>\n",
              "    <path d=\"M18.56 5.44l.94 2.06.94-2.06 2.06-.94-2.06-.94-.94-2.06-.94 2.06-2.06.94zm-11 1L8.5 8.5l.94-2.06 2.06-.94-2.06-.94L8.5 2.5l-.94 2.06-2.06.94zm10 10l.94 2.06.94-2.06 2.06-.94-2.06-.94-.94-2.06-.94 2.06-2.06.94z\"/><path d=\"M17.41 7.96l-1.37-1.37c-.4-.4-.92-.59-1.43-.59-.52 0-1.04.2-1.43.59L10.3 9.45l-7.72 7.72c-.78.78-.78 2.05 0 2.83L4 21.41c.39.39.9.59 1.41.59.51 0 1.02-.2 1.41-.59l7.78-7.78 2.81-2.81c.8-.78.8-2.07 0-2.86zM5.41 20L4 18.59l7.72-7.72 1.47 1.35L5.41 20z\"/>\n",
              "  </svg>\n",
              "      </button>\n",
              "      \n",
              "  <style>\n",
              "    .colab-df-container {\n",
              "      display:flex;\n",
              "      flex-wrap:wrap;\n",
              "      gap: 12px;\n",
              "    }\n",
              "\n",
              "    .colab-df-convert {\n",
              "      background-color: #E8F0FE;\n",
              "      border: none;\n",
              "      border-radius: 50%;\n",
              "      cursor: pointer;\n",
              "      display: none;\n",
              "      fill: #1967D2;\n",
              "      height: 32px;\n",
              "      padding: 0 0 0 0;\n",
              "      width: 32px;\n",
              "    }\n",
              "\n",
              "    .colab-df-convert:hover {\n",
              "      background-color: #E2EBFA;\n",
              "      box-shadow: 0px 1px 2px rgba(60, 64, 67, 0.3), 0px 1px 3px 1px rgba(60, 64, 67, 0.15);\n",
              "      fill: #174EA6;\n",
              "    }\n",
              "\n",
              "    [theme=dark] .colab-df-convert {\n",
              "      background-color: #3B4455;\n",
              "      fill: #D2E3FC;\n",
              "    }\n",
              "\n",
              "    [theme=dark] .colab-df-convert:hover {\n",
              "      background-color: #434B5C;\n",
              "      box-shadow: 0px 1px 3px 1px rgba(0, 0, 0, 0.15);\n",
              "      filter: drop-shadow(0px 1px 2px rgba(0, 0, 0, 0.3));\n",
              "      fill: #FFFFFF;\n",
              "    }\n",
              "  </style>\n",
              "\n",
              "      <script>\n",
              "        const buttonEl =\n",
              "          document.querySelector('#df-955a12ae-9f5e-4423-bfb0-ec0591753a40 button.colab-df-convert');\n",
              "        buttonEl.style.display =\n",
              "          google.colab.kernel.accessAllowed ? 'block' : 'none';\n",
              "\n",
              "        async function convertToInteractive(key) {\n",
              "          const element = document.querySelector('#df-955a12ae-9f5e-4423-bfb0-ec0591753a40');\n",
              "          const dataTable =\n",
              "            await google.colab.kernel.invokeFunction('convertToInteractive',\n",
              "                                                     [key], {});\n",
              "          if (!dataTable) return;\n",
              "\n",
              "          const docLinkHtml = 'Like what you see? Visit the ' +\n",
              "            '<a target=\"_blank\" href=https://colab.research.google.com/notebooks/data_table.ipynb>data table notebook</a>'\n",
              "            + ' to learn more about interactive tables.';\n",
              "          element.innerHTML = '';\n",
              "          dataTable['output_type'] = 'display_data';\n",
              "          await google.colab.output.renderOutput(dataTable, element);\n",
              "          const docLink = document.createElement('div');\n",
              "          docLink.innerHTML = docLinkHtml;\n",
              "          element.appendChild(docLink);\n",
              "        }\n",
              "      </script>\n",
              "    </div>\n",
              "  </div>\n",
              "  "
            ]
          },
          "metadata": {},
          "execution_count": 9
        }
      ]
    },
    {
      "cell_type": "code",
      "source": [
        "print(\"AUDI CAR MODEL :\",df.model.unique())\n",
        "print(\"AUDI Total  CAR MODEL :\",len(df.model.unique()))"
      ],
      "metadata": {
        "colab": {
          "base_uri": "https://localhost:8080/"
        },
        "id": "vfyLoPXJxuVf",
        "outputId": "26fea748-7d81-4ae8-c975-7297aff46f31"
      },
      "execution_count": 10,
      "outputs": [
        {
          "output_type": "stream",
          "name": "stdout",
          "text": [
            "AUDI CAR MODEL : [' A1' ' A6' ' A4' ' A3' ' Q3' ' Q5' ' A5' ' S4' ' Q2' ' A7' ' TT' ' Q7'\n",
            " ' RS6' ' RS3' ' A8' ' Q8' ' RS4' ' RS5' ' R8' ' SQ5' ' S8' ' SQ7' ' S3'\n",
            " ' S5' ' A2' ' RS7']\n",
            "AUDI Total  CAR MODEL : 26\n"
          ]
        }
      ]
    },
    {
      "cell_type": "code",
      "source": [
        "df.fuelType.unique()"
      ],
      "metadata": {
        "colab": {
          "base_uri": "https://localhost:8080/"
        },
        "id": "In8GAiXLxuSs",
        "outputId": "6d6d75c3-93af-447e-b560-5c19fa5d00d7"
      },
      "execution_count": 11,
      "outputs": [
        {
          "output_type": "execute_result",
          "data": {
            "text/plain": [
              "array(['Petrol', 'Diesel', 'Hybrid'], dtype=object)"
            ]
          },
          "metadata": {},
          "execution_count": 11
        }
      ]
    },
    {
      "cell_type": "code",
      "source": [
        "df.model.value_counts()"
      ],
      "metadata": {
        "colab": {
          "base_uri": "https://localhost:8080/"
        },
        "id": "bHyOCe4BxuP4",
        "outputId": "bddf87d3-fa53-4c3a-e1be-e70a422e9645"
      },
      "execution_count": 12,
      "outputs": [
        {
          "output_type": "execute_result",
          "data": {
            "text/plain": [
              " A3     1929\n",
              " Q3     1417\n",
              " A4     1381\n",
              " A1     1347\n",
              " A5      882\n",
              " Q5      877\n",
              " Q2      822\n",
              " A6      748\n",
              " Q7      397\n",
              " TT      336\n",
              " A7      122\n",
              " A8      118\n",
              " Q8       69\n",
              " RS6      39\n",
              " RS3      33\n",
              " RS4      31\n",
              " RS5      29\n",
              " R8       28\n",
              " S3       18\n",
              " SQ5      16\n",
              " S4       12\n",
              " SQ7       8\n",
              " S8        4\n",
              " S5        3\n",
              " A2        1\n",
              " RS7       1\n",
              "Name: model, dtype: int64"
            ]
          },
          "metadata": {},
          "execution_count": 12
        }
      ]
    },
    {
      "cell_type": "markdown",
      "source": [
        "###Data Aggregation\n"
      ],
      "metadata": {
        "id": "pgfGq-M1z6CP"
      }
    },
    {
      "cell_type": "code",
      "source": [
        "df_agg_model = df.groupby(['model'])['price'].agg(['count', 'mean', 'sum'])\n",
        "\n",
        "display(df_agg_model)"
      ],
      "metadata": {
        "colab": {
          "base_uri": "https://localhost:8080/",
          "height": 0
        },
        "id": "90pb4g3HxuM1",
        "outputId": "50463f93-cc99-4013-ab5b-71bc8da11bb8"
      },
      "execution_count": 13,
      "outputs": [
        {
          "output_type": "display_data",
          "data": {
            "text/plain": [
              "       count          mean       sum\n",
              "model                               \n",
              " A1     1347  14327.750557  19299480\n",
              " A2        1   2490.000000      2490\n",
              " A3     1929  17408.522032  33581039\n",
              " A4     1381  20255.450398  27972777\n",
              " A5      882  23577.114512  20795015\n",
              " A6      748  22695.385027  16976148\n",
              " A7      122  28865.516393   3521593\n",
              " A8      118  34981.847458   4127858\n",
              " Q2      822  22516.975669  18508954\n",
              " Q3     1417  22999.261821  32589954\n",
              " Q5      877  30445.688712  26700869\n",
              " Q7      397  44788.319899  17780963\n",
              " Q8       69  60115.014493   4147936\n",
              " R8       28  97652.214286   2734262\n",
              " RS3      33  34050.515152   1123667\n",
              " RS4      31  50151.612903   1554700\n",
              " RS5      29  51265.206897   1486691\n",
              " RS6      39  55963.871795   2182591\n",
              " RS7       1  33490.000000     33490\n",
              " S3       18  20379.444444    366830\n",
              " S4       12  31248.083333    374977\n",
              " S5        3  15980.000000     47940\n",
              " S8        4  33807.750000    135231\n",
              " SQ5      16  31415.812500    502653\n",
              " SQ7       8  49269.000000    394152\n",
              " TT      336  21784.452381   7319576"
            ],
            "text/html": [
              "\n",
              "  <div id=\"df-1021a38e-6eae-4287-8339-6666cfb3b100\">\n",
              "    <div class=\"colab-df-container\">\n",
              "      <div>\n",
              "<style scoped>\n",
              "    .dataframe tbody tr th:only-of-type {\n",
              "        vertical-align: middle;\n",
              "    }\n",
              "\n",
              "    .dataframe tbody tr th {\n",
              "        vertical-align: top;\n",
              "    }\n",
              "\n",
              "    .dataframe thead th {\n",
              "        text-align: right;\n",
              "    }\n",
              "</style>\n",
              "<table border=\"1\" class=\"dataframe\">\n",
              "  <thead>\n",
              "    <tr style=\"text-align: right;\">\n",
              "      <th></th>\n",
              "      <th>count</th>\n",
              "      <th>mean</th>\n",
              "      <th>sum</th>\n",
              "    </tr>\n",
              "    <tr>\n",
              "      <th>model</th>\n",
              "      <th></th>\n",
              "      <th></th>\n",
              "      <th></th>\n",
              "    </tr>\n",
              "  </thead>\n",
              "  <tbody>\n",
              "    <tr>\n",
              "      <th>A1</th>\n",
              "      <td>1347</td>\n",
              "      <td>14327.750557</td>\n",
              "      <td>19299480</td>\n",
              "    </tr>\n",
              "    <tr>\n",
              "      <th>A2</th>\n",
              "      <td>1</td>\n",
              "      <td>2490.000000</td>\n",
              "      <td>2490</td>\n",
              "    </tr>\n",
              "    <tr>\n",
              "      <th>A3</th>\n",
              "      <td>1929</td>\n",
              "      <td>17408.522032</td>\n",
              "      <td>33581039</td>\n",
              "    </tr>\n",
              "    <tr>\n",
              "      <th>A4</th>\n",
              "      <td>1381</td>\n",
              "      <td>20255.450398</td>\n",
              "      <td>27972777</td>\n",
              "    </tr>\n",
              "    <tr>\n",
              "      <th>A5</th>\n",
              "      <td>882</td>\n",
              "      <td>23577.114512</td>\n",
              "      <td>20795015</td>\n",
              "    </tr>\n",
              "    <tr>\n",
              "      <th>A6</th>\n",
              "      <td>748</td>\n",
              "      <td>22695.385027</td>\n",
              "      <td>16976148</td>\n",
              "    </tr>\n",
              "    <tr>\n",
              "      <th>A7</th>\n",
              "      <td>122</td>\n",
              "      <td>28865.516393</td>\n",
              "      <td>3521593</td>\n",
              "    </tr>\n",
              "    <tr>\n",
              "      <th>A8</th>\n",
              "      <td>118</td>\n",
              "      <td>34981.847458</td>\n",
              "      <td>4127858</td>\n",
              "    </tr>\n",
              "    <tr>\n",
              "      <th>Q2</th>\n",
              "      <td>822</td>\n",
              "      <td>22516.975669</td>\n",
              "      <td>18508954</td>\n",
              "    </tr>\n",
              "    <tr>\n",
              "      <th>Q3</th>\n",
              "      <td>1417</td>\n",
              "      <td>22999.261821</td>\n",
              "      <td>32589954</td>\n",
              "    </tr>\n",
              "    <tr>\n",
              "      <th>Q5</th>\n",
              "      <td>877</td>\n",
              "      <td>30445.688712</td>\n",
              "      <td>26700869</td>\n",
              "    </tr>\n",
              "    <tr>\n",
              "      <th>Q7</th>\n",
              "      <td>397</td>\n",
              "      <td>44788.319899</td>\n",
              "      <td>17780963</td>\n",
              "    </tr>\n",
              "    <tr>\n",
              "      <th>Q8</th>\n",
              "      <td>69</td>\n",
              "      <td>60115.014493</td>\n",
              "      <td>4147936</td>\n",
              "    </tr>\n",
              "    <tr>\n",
              "      <th>R8</th>\n",
              "      <td>28</td>\n",
              "      <td>97652.214286</td>\n",
              "      <td>2734262</td>\n",
              "    </tr>\n",
              "    <tr>\n",
              "      <th>RS3</th>\n",
              "      <td>33</td>\n",
              "      <td>34050.515152</td>\n",
              "      <td>1123667</td>\n",
              "    </tr>\n",
              "    <tr>\n",
              "      <th>RS4</th>\n",
              "      <td>31</td>\n",
              "      <td>50151.612903</td>\n",
              "      <td>1554700</td>\n",
              "    </tr>\n",
              "    <tr>\n",
              "      <th>RS5</th>\n",
              "      <td>29</td>\n",
              "      <td>51265.206897</td>\n",
              "      <td>1486691</td>\n",
              "    </tr>\n",
              "    <tr>\n",
              "      <th>RS6</th>\n",
              "      <td>39</td>\n",
              "      <td>55963.871795</td>\n",
              "      <td>2182591</td>\n",
              "    </tr>\n",
              "    <tr>\n",
              "      <th>RS7</th>\n",
              "      <td>1</td>\n",
              "      <td>33490.000000</td>\n",
              "      <td>33490</td>\n",
              "    </tr>\n",
              "    <tr>\n",
              "      <th>S3</th>\n",
              "      <td>18</td>\n",
              "      <td>20379.444444</td>\n",
              "      <td>366830</td>\n",
              "    </tr>\n",
              "    <tr>\n",
              "      <th>S4</th>\n",
              "      <td>12</td>\n",
              "      <td>31248.083333</td>\n",
              "      <td>374977</td>\n",
              "    </tr>\n",
              "    <tr>\n",
              "      <th>S5</th>\n",
              "      <td>3</td>\n",
              "      <td>15980.000000</td>\n",
              "      <td>47940</td>\n",
              "    </tr>\n",
              "    <tr>\n",
              "      <th>S8</th>\n",
              "      <td>4</td>\n",
              "      <td>33807.750000</td>\n",
              "      <td>135231</td>\n",
              "    </tr>\n",
              "    <tr>\n",
              "      <th>SQ5</th>\n",
              "      <td>16</td>\n",
              "      <td>31415.812500</td>\n",
              "      <td>502653</td>\n",
              "    </tr>\n",
              "    <tr>\n",
              "      <th>SQ7</th>\n",
              "      <td>8</td>\n",
              "      <td>49269.000000</td>\n",
              "      <td>394152</td>\n",
              "    </tr>\n",
              "    <tr>\n",
              "      <th>TT</th>\n",
              "      <td>336</td>\n",
              "      <td>21784.452381</td>\n",
              "      <td>7319576</td>\n",
              "    </tr>\n",
              "  </tbody>\n",
              "</table>\n",
              "</div>\n",
              "      <button class=\"colab-df-convert\" onclick=\"convertToInteractive('df-1021a38e-6eae-4287-8339-6666cfb3b100')\"\n",
              "              title=\"Convert this dataframe to an interactive table.\"\n",
              "              style=\"display:none;\">\n",
              "        \n",
              "  <svg xmlns=\"http://www.w3.org/2000/svg\" height=\"24px\"viewBox=\"0 0 24 24\"\n",
              "       width=\"24px\">\n",
              "    <path d=\"M0 0h24v24H0V0z\" fill=\"none\"/>\n",
              "    <path d=\"M18.56 5.44l.94 2.06.94-2.06 2.06-.94-2.06-.94-.94-2.06-.94 2.06-2.06.94zm-11 1L8.5 8.5l.94-2.06 2.06-.94-2.06-.94L8.5 2.5l-.94 2.06-2.06.94zm10 10l.94 2.06.94-2.06 2.06-.94-2.06-.94-.94-2.06-.94 2.06-2.06.94z\"/><path d=\"M17.41 7.96l-1.37-1.37c-.4-.4-.92-.59-1.43-.59-.52 0-1.04.2-1.43.59L10.3 9.45l-7.72 7.72c-.78.78-.78 2.05 0 2.83L4 21.41c.39.39.9.59 1.41.59.51 0 1.02-.2 1.41-.59l7.78-7.78 2.81-2.81c.8-.78.8-2.07 0-2.86zM5.41 20L4 18.59l7.72-7.72 1.47 1.35L5.41 20z\"/>\n",
              "  </svg>\n",
              "      </button>\n",
              "      \n",
              "  <style>\n",
              "    .colab-df-container {\n",
              "      display:flex;\n",
              "      flex-wrap:wrap;\n",
              "      gap: 12px;\n",
              "    }\n",
              "\n",
              "    .colab-df-convert {\n",
              "      background-color: #E8F0FE;\n",
              "      border: none;\n",
              "      border-radius: 50%;\n",
              "      cursor: pointer;\n",
              "      display: none;\n",
              "      fill: #1967D2;\n",
              "      height: 32px;\n",
              "      padding: 0 0 0 0;\n",
              "      width: 32px;\n",
              "    }\n",
              "\n",
              "    .colab-df-convert:hover {\n",
              "      background-color: #E2EBFA;\n",
              "      box-shadow: 0px 1px 2px rgba(60, 64, 67, 0.3), 0px 1px 3px 1px rgba(60, 64, 67, 0.15);\n",
              "      fill: #174EA6;\n",
              "    }\n",
              "\n",
              "    [theme=dark] .colab-df-convert {\n",
              "      background-color: #3B4455;\n",
              "      fill: #D2E3FC;\n",
              "    }\n",
              "\n",
              "    [theme=dark] .colab-df-convert:hover {\n",
              "      background-color: #434B5C;\n",
              "      box-shadow: 0px 1px 3px 1px rgba(0, 0, 0, 0.15);\n",
              "      filter: drop-shadow(0px 1px 2px rgba(0, 0, 0, 0.3));\n",
              "      fill: #FFFFFF;\n",
              "    }\n",
              "  </style>\n",
              "\n",
              "      <script>\n",
              "        const buttonEl =\n",
              "          document.querySelector('#df-1021a38e-6eae-4287-8339-6666cfb3b100 button.colab-df-convert');\n",
              "        buttonEl.style.display =\n",
              "          google.colab.kernel.accessAllowed ? 'block' : 'none';\n",
              "\n",
              "        async function convertToInteractive(key) {\n",
              "          const element = document.querySelector('#df-1021a38e-6eae-4287-8339-6666cfb3b100');\n",
              "          const dataTable =\n",
              "            await google.colab.kernel.invokeFunction('convertToInteractive',\n",
              "                                                     [key], {});\n",
              "          if (!dataTable) return;\n",
              "\n",
              "          const docLinkHtml = 'Like what you see? Visit the ' +\n",
              "            '<a target=\"_blank\" href=https://colab.research.google.com/notebooks/data_table.ipynb>data table notebook</a>'\n",
              "            + ' to learn more about interactive tables.';\n",
              "          element.innerHTML = '';\n",
              "          dataTable['output_type'] = 'display_data';\n",
              "          await google.colab.output.renderOutput(dataTable, element);\n",
              "          const docLink = document.createElement('div');\n",
              "          docLink.innerHTML = docLinkHtml;\n",
              "          element.appendChild(docLink);\n",
              "        }\n",
              "      </script>\n",
              "    </div>\n",
              "  </div>\n",
              "  "
            ]
          },
          "metadata": {}
        }
      ]
    },
    {
      "cell_type": "markdown",
      "source": [
        "###Data preprocessing before visualization\n"
      ],
      "metadata": {
        "id": "tdCux2Da1mZl"
      }
    },
    {
      "cell_type": "markdown",
      "source": [
        "#####Based on model, transmission, and fuelType,\n",
        "A. What are the top 5 selling car models/transmission/fuelType in the dataset?\n",
        "\n",
        "B. What's the average selling price of the top 5 selling car models/transmission/fuelType?\n",
        "\n",
        "C. What's the total sale of the top 5 selling car models/transmission/fuelType?"
      ],
      "metadata": {
        "id": "pCcWcWP112-E"
      }
    },
    {
      "cell_type": "code",
      "source": [
        "df_agg_model = df_agg_model.sort_values(by='count', ascending=False)\n",
        "df_agg_model['percent_of_cars'] = (df_agg_model['count']/df_agg_model['count'].sum())*100\n",
        "\n",
        "df_agg_model['sum'] = df_agg_model['sum']/1000000\n",
        "\n",
        "# Rounding for  two decimal points\n",
        "df_agg_model = df_agg_model.round(2)\n",
        "\n",
        "# Removing the count column\n",
        "df_agg_model = df_agg_model.drop('count', axis=1)\n",
        "\n",
        "display(df_agg_model.head())"
      ],
      "metadata": {
        "colab": {
          "base_uri": "https://localhost:8080/",
          "height": 0
        },
        "id": "UlNXeE11xuJ0",
        "outputId": "2635ce33-7de9-4020-bd78-c8e508ef1855"
      },
      "execution_count": 14,
      "outputs": [
        {
          "output_type": "display_data",
          "data": {
            "text/plain": [
              "           mean    sum  percent_of_cars\n",
              "model                                  \n",
              " A3    17408.52  33.58            18.08\n",
              " Q3    22999.26  32.59            13.28\n",
              " A4    20255.45  27.97            12.95\n",
              " A1    14327.75  19.30            12.63\n",
              " A5    23577.11  20.80             8.27"
            ],
            "text/html": [
              "\n",
              "  <div id=\"df-506f6bb3-6e26-4dc7-b36e-65fc444badf2\">\n",
              "    <div class=\"colab-df-container\">\n",
              "      <div>\n",
              "<style scoped>\n",
              "    .dataframe tbody tr th:only-of-type {\n",
              "        vertical-align: middle;\n",
              "    }\n",
              "\n",
              "    .dataframe tbody tr th {\n",
              "        vertical-align: top;\n",
              "    }\n",
              "\n",
              "    .dataframe thead th {\n",
              "        text-align: right;\n",
              "    }\n",
              "</style>\n",
              "<table border=\"1\" class=\"dataframe\">\n",
              "  <thead>\n",
              "    <tr style=\"text-align: right;\">\n",
              "      <th></th>\n",
              "      <th>mean</th>\n",
              "      <th>sum</th>\n",
              "      <th>percent_of_cars</th>\n",
              "    </tr>\n",
              "    <tr>\n",
              "      <th>model</th>\n",
              "      <th></th>\n",
              "      <th></th>\n",
              "      <th></th>\n",
              "    </tr>\n",
              "  </thead>\n",
              "  <tbody>\n",
              "    <tr>\n",
              "      <th>A3</th>\n",
              "      <td>17408.52</td>\n",
              "      <td>33.58</td>\n",
              "      <td>18.08</td>\n",
              "    </tr>\n",
              "    <tr>\n",
              "      <th>Q3</th>\n",
              "      <td>22999.26</td>\n",
              "      <td>32.59</td>\n",
              "      <td>13.28</td>\n",
              "    </tr>\n",
              "    <tr>\n",
              "      <th>A4</th>\n",
              "      <td>20255.45</td>\n",
              "      <td>27.97</td>\n",
              "      <td>12.95</td>\n",
              "    </tr>\n",
              "    <tr>\n",
              "      <th>A1</th>\n",
              "      <td>14327.75</td>\n",
              "      <td>19.30</td>\n",
              "      <td>12.63</td>\n",
              "    </tr>\n",
              "    <tr>\n",
              "      <th>A5</th>\n",
              "      <td>23577.11</td>\n",
              "      <td>20.80</td>\n",
              "      <td>8.27</td>\n",
              "    </tr>\n",
              "  </tbody>\n",
              "</table>\n",
              "</div>\n",
              "      <button class=\"colab-df-convert\" onclick=\"convertToInteractive('df-506f6bb3-6e26-4dc7-b36e-65fc444badf2')\"\n",
              "              title=\"Convert this dataframe to an interactive table.\"\n",
              "              style=\"display:none;\">\n",
              "        \n",
              "  <svg xmlns=\"http://www.w3.org/2000/svg\" height=\"24px\"viewBox=\"0 0 24 24\"\n",
              "       width=\"24px\">\n",
              "    <path d=\"M0 0h24v24H0V0z\" fill=\"none\"/>\n",
              "    <path d=\"M18.56 5.44l.94 2.06.94-2.06 2.06-.94-2.06-.94-.94-2.06-.94 2.06-2.06.94zm-11 1L8.5 8.5l.94-2.06 2.06-.94-2.06-.94L8.5 2.5l-.94 2.06-2.06.94zm10 10l.94 2.06.94-2.06 2.06-.94-2.06-.94-.94-2.06-.94 2.06-2.06.94z\"/><path d=\"M17.41 7.96l-1.37-1.37c-.4-.4-.92-.59-1.43-.59-.52 0-1.04.2-1.43.59L10.3 9.45l-7.72 7.72c-.78.78-.78 2.05 0 2.83L4 21.41c.39.39.9.59 1.41.59.51 0 1.02-.2 1.41-.59l7.78-7.78 2.81-2.81c.8-.78.8-2.07 0-2.86zM5.41 20L4 18.59l7.72-7.72 1.47 1.35L5.41 20z\"/>\n",
              "  </svg>\n",
              "      </button>\n",
              "      \n",
              "  <style>\n",
              "    .colab-df-container {\n",
              "      display:flex;\n",
              "      flex-wrap:wrap;\n",
              "      gap: 12px;\n",
              "    }\n",
              "\n",
              "    .colab-df-convert {\n",
              "      background-color: #E8F0FE;\n",
              "      border: none;\n",
              "      border-radius: 50%;\n",
              "      cursor: pointer;\n",
              "      display: none;\n",
              "      fill: #1967D2;\n",
              "      height: 32px;\n",
              "      padding: 0 0 0 0;\n",
              "      width: 32px;\n",
              "    }\n",
              "\n",
              "    .colab-df-convert:hover {\n",
              "      background-color: #E2EBFA;\n",
              "      box-shadow: 0px 1px 2px rgba(60, 64, 67, 0.3), 0px 1px 3px 1px rgba(60, 64, 67, 0.15);\n",
              "      fill: #174EA6;\n",
              "    }\n",
              "\n",
              "    [theme=dark] .colab-df-convert {\n",
              "      background-color: #3B4455;\n",
              "      fill: #D2E3FC;\n",
              "    }\n",
              "\n",
              "    [theme=dark] .colab-df-convert:hover {\n",
              "      background-color: #434B5C;\n",
              "      box-shadow: 0px 1px 3px 1px rgba(0, 0, 0, 0.15);\n",
              "      filter: drop-shadow(0px 1px 2px rgba(0, 0, 0, 0.3));\n",
              "      fill: #FFFFFF;\n",
              "    }\n",
              "  </style>\n",
              "\n",
              "      <script>\n",
              "        const buttonEl =\n",
              "          document.querySelector('#df-506f6bb3-6e26-4dc7-b36e-65fc444badf2 button.colab-df-convert');\n",
              "        buttonEl.style.display =\n",
              "          google.colab.kernel.accessAllowed ? 'block' : 'none';\n",
              "\n",
              "        async function convertToInteractive(key) {\n",
              "          const element = document.querySelector('#df-506f6bb3-6e26-4dc7-b36e-65fc444badf2');\n",
              "          const dataTable =\n",
              "            await google.colab.kernel.invokeFunction('convertToInteractive',\n",
              "                                                     [key], {});\n",
              "          if (!dataTable) return;\n",
              "\n",
              "          const docLinkHtml = 'Like what you see? Visit the ' +\n",
              "            '<a target=\"_blank\" href=https://colab.research.google.com/notebooks/data_table.ipynb>data table notebook</a>'\n",
              "            + ' to learn more about interactive tables.';\n",
              "          element.innerHTML = '';\n",
              "          dataTable['output_type'] = 'display_data';\n",
              "          await google.colab.output.renderOutput(dataTable, element);\n",
              "          const docLink = document.createElement('div');\n",
              "          docLink.innerHTML = docLinkHtml;\n",
              "          element.appendChild(docLink);\n",
              "        }\n",
              "      </script>\n",
              "    </div>\n",
              "  </div>\n",
              "  "
            ]
          },
          "metadata": {}
        }
      ]
    },
    {
      "cell_type": "code",
      "source": [
        "# Creating bar plot based on Model type\n",
        "plt.figure(figsize=(20,8))\n",
        "\n",
        "plt.subplot(1, 3, 1)\n",
        "sns.barplot(x='percent_of_cars', y=df_agg_model.index, data=df_agg_model, orient='h', color='blue')\n",
        "plt.title(\"Percentage of cars in each model\")\n",
        "plt.xlabel(\"Percentage of cars (%)\")\n",
        "\n",
        "plt.subplot(1, 3, 2)\n",
        "sns.barplot(x='mean', y=df_agg_model.index, data=df_agg_model, orient='h', color='orange')\n",
        "plt.title(\"Average resale value of the cars of each model\")\n",
        "plt.xlabel(\"Average price ($)\")\n",
        "plt.ylabel(\"\")\n",
        "\n",
        "plt.subplot(1, 3, 3)\n",
        "sns.barplot(x='sum', y=df_agg_model.index, data=df_agg_model, orient='h', color='green')\n",
        "plt.title(\"total resale value of the cars by each model\")\n",
        "plt.xlabel(\"Total price in million $\")\n",
        "plt.ylabel(\"\")\n",
        "\n",
        "#.suptitle(\"Barplot of the AUDI used car\")\n",
        "plt.tight_layout()\n",
        "plt.show()"
      ],
      "metadata": {
        "colab": {
          "base_uri": "https://localhost:8080/",
          "height": 0
        },
        "id": "KTWzjXCuxuG0",
        "outputId": "4e18bf2b-f332-4a54-a871-b1244d54db88"
      },
      "execution_count": 15,
      "outputs": [
        {
          "output_type": "display_data",
          "data": {
            "text/plain": [
              "<Figure size 1440x576 with 3 Axes>"
            ],
            "image/png": "[encoded data removed]"
          },
          "metadata": {}
        }
      ]
    },
    {
      "cell_type": "code",
      "source": [
        "# Creating bar plot based on Transmission type\n",
        "df_agg_transmission = df.groupby(['transmission'])['price'].agg(['count', 'mean', 'sum'])\n",
        "\n",
        "display(df_agg_transmission)"
      ],
      "metadata": {
        "colab": {
          "base_uri": "https://localhost:8080/",
          "height": 0
        },
        "id": "eCtukZeY64xH",
        "outputId": "e763e698-8113-4c9c-c573-9f5e2bea2a21"
      },
      "execution_count": 16,
      "outputs": [
        {
          "output_type": "display_data",
          "data": {
            "text/plain": [
              "              count          mean       sum\n",
              "transmission                               \n",
              "Automatic      2708  28204.750000  76378463\n",
              "Manual         4369  16101.033417  70345415\n",
              "Semi-Auto      3591  27161.781676  97537958"
            ],
            "text/html": [
              "\n",
              "  <div id=\"df-9b74ed22-d6a5-4746-b351-2cc566734ffa\">\n",
              "    <div class=\"colab-df-container\">\n",
              "      <div>\n",
              "<style scoped>\n",
              "    .dataframe tbody tr th:only-of-type {\n",
              "        vertical-align: middle;\n",
              "    }\n",
              "\n",
              "    .dataframe tbody tr th {\n",
              "        vertical-align: top;\n",
              "    }\n",
              "\n",
              "    .dataframe thead th {\n",
              "        text-align: right;\n",
              "    }\n",
              "</style>\n",
              "<table border=\"1\" class=\"dataframe\">\n",
              "  <thead>\n",
              "    <tr style=\"text-align: right;\">\n",
              "      <th></th>\n",
              "      <th>count</th>\n",
              "      <th>mean</th>\n",
              "      <th>sum</th>\n",
              "    </tr>\n",
              "    <tr>\n",
              "      <th>transmission</th>\n",
              "      <th></th>\n",
              "      <th></th>\n",
              "      <th></th>\n",
              "    </tr>\n",
              "  </thead>\n",
              "  <tbody>\n",
              "    <tr>\n",
              "      <th>Automatic</th>\n",
              "      <td>2708</td>\n",
              "      <td>28204.750000</td>\n",
              "      <td>76378463</td>\n",
              "    </tr>\n",
              "    <tr>\n",
              "      <th>Manual</th>\n",
              "      <td>4369</td>\n",
              "      <td>16101.033417</td>\n",
              "      <td>70345415</td>\n",
              "    </tr>\n",
              "    <tr>\n",
              "      <th>Semi-Auto</th>\n",
              "      <td>3591</td>\n",
              "      <td>27161.781676</td>\n",
              "      <td>97537958</td>\n",
              "    </tr>\n",
              "  </tbody>\n",
              "</table>\n",
              "</div>\n",
              "      <button class=\"colab-df-convert\" onclick=\"convertToInteractive('df-9b74ed22-d6a5-4746-b351-2cc566734ffa')\"\n",
              "              title=\"Convert this dataframe to an interactive table.\"\n",
              "              style=\"display:none;\">\n",
              "        \n",
              "  <svg xmlns=\"http://www.w3.org/2000/svg\" height=\"24px\"viewBox=\"0 0 24 24\"\n",
              "       width=\"24px\">\n",
              "    <path d=\"M0 0h24v24H0V0z\" fill=\"none\"/>\n",
              "    <path d=\"M18.56 5.44l.94 2.06.94-2.06 2.06-.94-2.06-.94-.94-2.06-.94 2.06-2.06.94zm-11 1L8.5 8.5l.94-2.06 2.06-.94-2.06-.94L8.5 2.5l-.94 2.06-2.06.94zm10 10l.94 2.06.94-2.06 2.06-.94-2.06-.94-.94-2.06-.94 2.06-2.06.94z\"/><path d=\"M17.41 7.96l-1.37-1.37c-.4-.4-.92-.59-1.43-.59-.52 0-1.04.2-1.43.59L10.3 9.45l-7.72 7.72c-.78.78-.78 2.05 0 2.83L4 21.41c.39.39.9.59 1.41.59.51 0 1.02-.2 1.41-.59l7.78-7.78 2.81-2.81c.8-.78.8-2.07 0-2.86zM5.41 20L4 18.59l7.72-7.72 1.47 1.35L5.41 20z\"/>\n",
              "  </svg>\n",
              "      </button>\n",
              "      \n",
              "  <style>\n",
              "    .colab-df-container {\n",
              "      display:flex;\n",
              "      flex-wrap:wrap;\n",
              "      gap: 12px;\n",
              "    }\n",
              "\n",
              "    .colab-df-convert {\n",
              "      background-color: #E8F0FE;\n",
              "      border: none;\n",
              "      border-radius: 50%;\n",
              "      cursor: pointer;\n",
              "      display: none;\n",
              "      fill: #1967D2;\n",
              "      height: 32px;\n",
              "      padding: 0 0 0 0;\n",
              "      width: 32px;\n",
              "    }\n",
              "\n",
              "    .colab-df-convert:hover {\n",
              "      background-color: #E2EBFA;\n",
              "      box-shadow: 0px 1px 2px rgba(60, 64, 67, 0.3), 0px 1px 3px 1px rgba(60, 64, 67, 0.15);\n",
              "      fill: #174EA6;\n",
              "    }\n",
              "\n",
              "    [theme=dark] .colab-df-convert {\n",
              "      background-color: #3B4455;\n",
              "      fill: #D2E3FC;\n",
              "    }\n",
              "\n",
              "    [theme=dark] .colab-df-convert:hover {\n",
              "      background-color: #434B5C;\n",
              "      box-shadow: 0px 1px 3px 1px rgba(0, 0, 0, 0.15);\n",
              "      filter: drop-shadow(0px 1px 2px rgba(0, 0, 0, 0.3));\n",
              "      fill: #FFFFFF;\n",
              "    }\n",
              "  </style>\n",
              "\n",
              "      <script>\n",
              "        const buttonEl =\n",
              "          document.querySelector('#df-9b74ed22-d6a5-4746-b351-2cc566734ffa button.colab-df-convert');\n",
              "        buttonEl.style.display =\n",
              "          google.colab.kernel.accessAllowed ? 'block' : 'none';\n",
              "\n",
              "        async function convertToInteractive(key) {\n",
              "          const element = document.querySelector('#df-9b74ed22-d6a5-4746-b351-2cc566734ffa');\n",
              "          const dataTable =\n",
              "            await google.colab.kernel.invokeFunction('convertToInteractive',\n",
              "                                                     [key], {});\n",
              "          if (!dataTable) return;\n",
              "\n",
              "          const docLinkHtml = 'Like what you see? Visit the ' +\n",
              "            '<a target=\"_blank\" href=https://colab.research.google.com/notebooks/data_table.ipynb>data table notebook</a>'\n",
              "            + ' to learn more about interactive tables.';\n",
              "          element.innerHTML = '';\n",
              "          dataTable['output_type'] = 'display_data';\n",
              "          await google.colab.output.renderOutput(dataTable, element);\n",
              "          const docLink = document.createElement('div');\n",
              "          docLink.innerHTML = docLinkHtml;\n",
              "          element.appendChild(docLink);\n",
              "        }\n",
              "      </script>\n",
              "    </div>\n",
              "  </div>\n",
              "  "
            ]
          },
          "metadata": {}
        }
      ]
    },
    {
      "cell_type": "code",
      "source": [
        "df_agg_transmission = df_agg_transmission.sort_values(by='count', ascending=False)\n",
        "df_agg_transmission['percent_of_cars'] = (df_agg_transmission['count']/df_agg_transmission['count'].sum())*100\n",
        "\n",
        "df_agg_transmission['sum'] = df_agg_transmission['sum']/1000000\n",
        "\n",
        "# Rounding for  two decimal points\n",
        "df_agg_transmission = df_agg_transmission.round(2)\n",
        "\n",
        "# Removing the count column\n",
        "df_agg_transmission = df_agg_transmission.drop('count', axis=1)\n",
        "\n",
        "display(df_agg_transmission.head())"
      ],
      "metadata": {
        "colab": {
          "base_uri": "https://localhost:8080/",
          "height": 0
        },
        "id": "xeVJxW5r7oRW",
        "outputId": "72871e24-536f-440d-be4c-22e031c1fff6"
      },
      "execution_count": 17,
      "outputs": [
        {
          "output_type": "display_data",
          "data": {
            "text/plain": [
              "                  mean    sum  percent_of_cars\n",
              "transmission                                  \n",
              "Manual        16101.03  70.35            40.95\n",
              "Semi-Auto     27161.78  97.54            33.66\n",
              "Automatic     28204.75  76.38            25.38"
            ],
            "text/html": [
              "\n",
              "  <div id=\"df-4eb57341-52ee-4ff9-b65d-5a1ff5a4f472\">\n",
              "    <div class=\"colab-df-container\">\n",
              "      <div>\n",
              "<style scoped>\n",
              "    .dataframe tbody tr th:only-of-type {\n",
              "        vertical-align: middle;\n",
              "    }\n",
              "\n",
              "    .dataframe tbody tr th {\n",
              "        vertical-align: top;\n",
              "    }\n",
              "\n",
              "    .dataframe thead th {\n",
              "        text-align: right;\n",
              "    }\n",
              "</style>\n",
              "<table border=\"1\" class=\"dataframe\">\n",
              "  <thead>\n",
              "    <tr style=\"text-align: right;\">\n",
              "      <th></th>\n",
              "      <th>mean</th>\n",
              "      <th>sum</th>\n",
              "      <th>percent_of_cars</th>\n",
              "    </tr>\n",
              "    <tr>\n",
              "      <th>transmission</th>\n",
              "      <th></th>\n",
              "      <th></th>\n",
              "      <th></th>\n",
              "    </tr>\n",
              "  </thead>\n",
              "  <tbody>\n",
              "    <tr>\n",
              "      <th>Manual</th>\n",
              "      <td>16101.03</td>\n",
              "      <td>70.35</td>\n",
              "      <td>40.95</td>\n",
              "    </tr>\n",
              "    <tr>\n",
              "      <th>Semi-Auto</th>\n",
              "      <td>27161.78</td>\n",
              "      <td>97.54</td>\n",
              "      <td>33.66</td>\n",
              "    </tr>\n",
              "    <tr>\n",
              "      <th>Automatic</th>\n",
              "      <td>28204.75</td>\n",
              "      <td>76.38</td>\n",
              "      <td>25.38</td>\n",
              "    </tr>\n",
              "  </tbody>\n",
              "</table>\n",
              "</div>\n",
              "      <button class=\"colab-df-convert\" onclick=\"convertToInteractive('df-4eb57341-52ee-4ff9-b65d-5a1ff5a4f472')\"\n",
              "              title=\"Convert this dataframe to an interactive table.\"\n",
              "              style=\"display:none;\">\n",
              "        \n",
              "  <svg xmlns=\"http://www.w3.org/2000/svg\" height=\"24px\"viewBox=\"0 0 24 24\"\n",
              "       width=\"24px\">\n",
              "    <path d=\"M0 0h24v24H0V0z\" fill=\"none\"/>\n",
              "    <path d=\"M18.56 5.44l.94 2.06.94-2.06 2.06-.94-2.06-.94-.94-2.06-.94 2.06-2.06.94zm-11 1L8.5 8.5l.94-2.06 2.06-.94-2.06-.94L8.5 2.5l-.94 2.06-2.06.94zm10 10l.94 2.06.94-2.06 2.06-.94-2.06-.94-.94-2.06-.94 2.06-2.06.94z\"/><path d=\"M17.41 7.96l-1.37-1.37c-.4-.4-.92-.59-1.43-.59-.52 0-1.04.2-1.43.59L10.3 9.45l-7.72 7.72c-.78.78-.78 2.05 0 2.83L4 21.41c.39.39.9.59 1.41.59.51 0 1.02-.2 1.41-.59l7.78-7.78 2.81-2.81c.8-.78.8-2.07 0-2.86zM5.41 20L4 18.59l7.72-7.72 1.47 1.35L5.41 20z\"/>\n",
              "  </svg>\n",
              "      </button>\n",
              "      \n",
              "  <style>\n",
              "    .colab-df-container {\n",
              "      display:flex;\n",
              "      flex-wrap:wrap;\n",
              "      gap: 12px;\n",
              "    }\n",
              "\n",
              "    .colab-df-convert {\n",
              "      background-color: #E8F0FE;\n",
              "      border: none;\n",
              "      border-radius: 50%;\n",
              "      cursor: pointer;\n",
              "      display: none;\n",
              "      fill: #1967D2;\n",
              "      height: 32px;\n",
              "      padding: 0 0 0 0;\n",
              "      width: 32px;\n",
              "    }\n",
              "\n",
              "    .colab-df-convert:hover {\n",
              "      background-color: #E2EBFA;\n",
              "      box-shadow: 0px 1px 2px rgba(60, 64, 67, 0.3), 0px 1px 3px 1px rgba(60, 64, 67, 0.15);\n",
              "      fill: #174EA6;\n",
              "    }\n",
              "\n",
              "    [theme=dark] .colab-df-convert {\n",
              "      background-color: #3B4455;\n",
              "      fill: #D2E3FC;\n",
              "    }\n",
              "\n",
              "    [theme=dark] .colab-df-convert:hover {\n",
              "      background-color: #434B5C;\n",
              "      box-shadow: 0px 1px 3px 1px rgba(0, 0, 0, 0.15);\n",
              "      filter: drop-shadow(0px 1px 2px rgba(0, 0, 0, 0.3));\n",
              "      fill: #FFFFFF;\n",
              "    }\n",
              "  </style>\n",
              "\n",
              "      <script>\n",
              "        const buttonEl =\n",
              "          document.querySelector('#df-4eb57341-52ee-4ff9-b65d-5a1ff5a4f472 button.colab-df-convert');\n",
              "        buttonEl.style.display =\n",
              "          google.colab.kernel.accessAllowed ? 'block' : 'none';\n",
              "\n",
              "        async function convertToInteractive(key) {\n",
              "          const element = document.querySelector('#df-4eb57341-52ee-4ff9-b65d-5a1ff5a4f472');\n",
              "          const dataTable =\n",
              "            await google.colab.kernel.invokeFunction('convertToInteractive',\n",
              "                                                     [key], {});\n",
              "          if (!dataTable) return;\n",
              "\n",
              "          const docLinkHtml = 'Like what you see? Visit the ' +\n",
              "            '<a target=\"_blank\" href=https://colab.research.google.com/notebooks/data_table.ipynb>data table notebook</a>'\n",
              "            + ' to learn more about interactive tables.';\n",
              "          element.innerHTML = '';\n",
              "          dataTable['output_type'] = 'display_data';\n",
              "          await google.colab.output.renderOutput(dataTable, element);\n",
              "          const docLink = document.createElement('div');\n",
              "          docLink.innerHTML = docLinkHtml;\n",
              "          element.appendChild(docLink);\n",
              "        }\n",
              "      </script>\n",
              "    </div>\n",
              "  </div>\n",
              "  "
            ]
          },
          "metadata": {}
        }
      ]
    },
    {
      "cell_type": "code",
      "source": [
        "df_agg_model.index"
      ],
      "metadata": {
        "colab": {
          "base_uri": "https://localhost:8080/"
        },
        "id": "dX79PjxQ8iYW",
        "outputId": "011d0196-8cef-420d-81f0-858b40b7578d"
      },
      "execution_count": 18,
      "outputs": [
        {
          "output_type": "execute_result",
          "data": {
            "text/plain": [
              "Index([' A3', ' Q3', ' A4', ' A1', ' A5', ' Q5', ' Q2', ' A6', ' Q7', ' TT',\n",
              "       ' A7', ' A8', ' Q8', ' RS6', ' RS3', ' RS4', ' RS5', ' R8', ' S3',\n",
              "       ' SQ5', ' S4', ' SQ7', ' S8', ' S5', ' A2', ' RS7'],\n",
              "      dtype='object', name='model')"
            ]
          },
          "metadata": {},
          "execution_count": 18
        }
      ]
    },
    {
      "cell_type": "code",
      "source": [
        "def rotate():\n",
        "  plt.xticks(rotation=90)\n",
        "rotate"
      ],
      "metadata": {
        "colab": {
          "base_uri": "https://localhost:8080/"
        },
        "id": "9iOHkBpws2wX",
        "outputId": "3ade7b70-58bb-434d-c380-c0f9adeff0d5"
      },
      "execution_count": 19,
      "outputs": [
        {
          "output_type": "execute_result",
          "data": {
            "text/plain": [
              "<function __main__.rotate>"
            ]
          },
          "metadata": {},
          "execution_count": 19
        }
      ]
    },
    {
      "cell_type": "code",
      "source": [
        "# Creating bar plot based on Transmission type\n",
        "plt.figure(figsize=(20,8))\n",
        "\n",
        "plt.subplot(1, 3, 1)\n",
        "sns.barplot(x='percent_of_cars', y=df_agg_transmission.index, data=df_agg_transmission, orient='h', color='blue')\n",
        "plt.title(\"Percentage of cars in each model\")\n",
        "plt.xticks(rotation=90)\n",
        "plt.xlabel(\"Percentage of cars (%)\")\n",
        "\n",
        "plt.subplot(1, 3, 2)\n",
        "sns.barplot(x='mean', y=df_agg_transmission.index, data=df_agg_transmission, orient='h', color='orange')\n",
        "plt.title(\"Average resale value of the cars of each model\")\n",
        "plt.xticks(rotation=90)\n",
        "plt.xlabel(\"Average price ($)\")\n",
        "plt.ylabel(\"\")\n",
        "\n",
        "plt.subplot(1, 3, 3)\n",
        "sns.barplot(x='sum', y=df_agg_transmission.index, data=df_agg_transmission, orient='h', color='green')\n",
        "plt.title(\"total resale value of the cars by each model\")\n",
        "plt.xticks(rotation=90)\n",
        "plt.xlabel(\"Total price in million $\")\n",
        "plt.ylabel(\"\")\n",
        "\n",
        "#.suptitle(\"Barplot of the AUDI used car\")\n",
        "plt.tight_layout()\n",
        "plt.show()"
      ],
      "metadata": {
        "colab": {
          "base_uri": "https://localhost:8080/",
          "height": 0
        },
        "id": "OvlUBJOh381V",
        "outputId": "cc781f75-7ca4-48bf-a7db-63f9af799a20"
      },
      "execution_count": 20,
      "outputs": [
        {
          "output_type": "display_data",
          "data": {
            "text/plain": [
              "<Figure size 1440x576 with 3 Axes>"
            ],
            "image/png": "[encoded data removed]"
          },
          "metadata": {}
        }
      ]
    },
    {
      "cell_type": "code",
      "source": [
        "# Creating bar plot based on fuel type\n",
        "df_agg_fuelType = df.groupby(['fuelType'])['price'].agg(['count', 'mean', 'sum'])\n",
        "\n",
        "display(df_agg_fuelType)"
      ],
      "metadata": {
        "colab": {
          "base_uri": "https://localhost:8080/",
          "height": 0
        },
        "id": "oi3LlUXu9JVX",
        "outputId": "ebf5fe74-cec2-49c4-9968-7c94fe16420f"
      },
      "execution_count": 21,
      "outputs": [
        {
          "output_type": "display_data",
          "data": {
            "text/plain": [
              "          count          mean        sum\n",
              "fuelType                                \n",
              "Diesel     5577  23237.516227  129595628\n",
              "Hybrid       28  30191.750000     845369\n",
              "Petrol     5063  22480.908355  113820839"
            ],
            "text/html": [
              "\n",
              "  <div id=\"df-5d907ffc-3fce-4a61-b904-80693508a023\">\n",
              "    <div class=\"colab-df-container\">\n",
              "      <div>\n",
              "<style scoped>\n",
              "    .dataframe tbody tr th:only-of-type {\n",
              "        vertical-align: middle;\n",
              "    }\n",
              "\n",
              "    .dataframe tbody tr th {\n",
              "        vertical-align: top;\n",
              "    }\n",
              "\n",
              "    .dataframe thead th {\n",
              "        text-align: right;\n",
              "    }\n",
              "</style>\n",
              "<table border=\"1\" class=\"dataframe\">\n",
              "  <thead>\n",
              "    <tr style=\"text-align: right;\">\n",
              "      <th></th>\n",
              "      <th>count</th>\n",
              "      <th>mean</th>\n",
              "      <th>sum</th>\n",
              "    </tr>\n",
              "    <tr>\n",
              "      <th>fuelType</th>\n",
              "      <th></th>\n",
              "      <th></th>\n",
              "      <th></th>\n",
              "    </tr>\n",
              "  </thead>\n",
              "  <tbody>\n",
              "    <tr>\n",
              "      <th>Diesel</th>\n",
              "      <td>5577</td>\n",
              "      <td>23237.516227</td>\n",
              "      <td>129595628</td>\n",
              "    </tr>\n",
              "    <tr>\n",
              "      <th>Hybrid</th>\n",
              "      <td>28</td>\n",
              "      <td>30191.750000</td>\n",
              "      <td>845369</td>\n",
              "    </tr>\n",
              "    <tr>\n",
              "      <th>Petrol</th>\n",
              "      <td>5063</td>\n",
              "      <td>22480.908355</td>\n",
              "      <td>113820839</td>\n",
              "    </tr>\n",
              "  </tbody>\n",
              "</table>\n",
              "</div>\n",
              "      <button class=\"colab-df-convert\" onclick=\"convertToInteractive('df-5d907ffc-3fce-4a61-b904-80693508a023')\"\n",
              "              title=\"Convert this dataframe to an interactive table.\"\n",
              "              style=\"display:none;\">\n",
              "        \n",
              "  <svg xmlns=\"http://www.w3.org/2000/svg\" height=\"24px\"viewBox=\"0 0 24 24\"\n",
              "       width=\"24px\">\n",
              "    <path d=\"M0 0h24v24H0V0z\" fill=\"none\"/>\n",
              "    <path d=\"M18.56 5.44l.94 2.06.94-2.06 2.06-.94-2.06-.94-.94-2.06-.94 2.06-2.06.94zm-11 1L8.5 8.5l.94-2.06 2.06-.94-2.06-.94L8.5 2.5l-.94 2.06-2.06.94zm10 10l.94 2.06.94-2.06 2.06-.94-2.06-.94-.94-2.06-.94 2.06-2.06.94z\"/><path d=\"M17.41 7.96l-1.37-1.37c-.4-.4-.92-.59-1.43-.59-.52 0-1.04.2-1.43.59L10.3 9.45l-7.72 7.72c-.78.78-.78 2.05 0 2.83L4 21.41c.39.39.9.59 1.41.59.51 0 1.02-.2 1.41-.59l7.78-7.78 2.81-2.81c.8-.78.8-2.07 0-2.86zM5.41 20L4 18.59l7.72-7.72 1.47 1.35L5.41 20z\"/>\n",
              "  </svg>\n",
              "      </button>\n",
              "      \n",
              "  <style>\n",
              "    .colab-df-container {\n",
              "      display:flex;\n",
              "      flex-wrap:wrap;\n",
              "      gap: 12px;\n",
              "    }\n",
              "\n",
              "    .colab-df-convert {\n",
              "      background-color: #E8F0FE;\n",
              "      border: none;\n",
              "      border-radius: 50%;\n",
              "      cursor: pointer;\n",
              "      display: none;\n",
              "      fill: #1967D2;\n",
              "      height: 32px;\n",
              "      padding: 0 0 0 0;\n",
              "      width: 32px;\n",
              "    }\n",
              "\n",
              "    .colab-df-convert:hover {\n",
              "      background-color: #E2EBFA;\n",
              "      box-shadow: 0px 1px 2px rgba(60, 64, 67, 0.3), 0px 1px 3px 1px rgba(60, 64, 67, 0.15);\n",
              "      fill: #174EA6;\n",
              "    }\n",
              "\n",
              "    [theme=dark] .colab-df-convert {\n",
              "      background-color: #3B4455;\n",
              "      fill: #D2E3FC;\n",
              "    }\n",
              "\n",
              "    [theme=dark] .colab-df-convert:hover {\n",
              "      background-color: #434B5C;\n",
              "      box-shadow: 0px 1px 3px 1px rgba(0, 0, 0, 0.15);\n",
              "      filter: drop-shadow(0px 1px 2px rgba(0, 0, 0, 0.3));\n",
              "      fill: #FFFFFF;\n",
              "    }\n",
              "  </style>\n",
              "\n",
              "      <script>\n",
              "        const buttonEl =\n",
              "          document.querySelector('#df-5d907ffc-3fce-4a61-b904-80693508a023 button.colab-df-convert');\n",
              "        buttonEl.style.display =\n",
              "          google.colab.kernel.accessAllowed ? 'block' : 'none';\n",
              "\n",
              "        async function convertToInteractive(key) {\n",
              "          const element = document.querySelector('#df-5d907ffc-3fce-4a61-b904-80693508a023');\n",
              "          const dataTable =\n",
              "            await google.colab.kernel.invokeFunction('convertToInteractive',\n",
              "                                                     [key], {});\n",
              "          if (!dataTable) return;\n",
              "\n",
              "          const docLinkHtml = 'Like what you see? Visit the ' +\n",
              "            '<a target=\"_blank\" href=https://colab.research.google.com/notebooks/data_table.ipynb>data table notebook</a>'\n",
              "            + ' to learn more about interactive tables.';\n",
              "          element.innerHTML = '';\n",
              "          dataTable['output_type'] = 'display_data';\n",
              "          await google.colab.output.renderOutput(dataTable, element);\n",
              "          const docLink = document.createElement('div');\n",
              "          docLink.innerHTML = docLinkHtml;\n",
              "          element.appendChild(docLink);\n",
              "        }\n",
              "      </script>\n",
              "    </div>\n",
              "  </div>\n",
              "  "
            ]
          },
          "metadata": {}
        }
      ]
    },
    {
      "cell_type": "code",
      "source": [
        "df_agg_fuelType = df_agg_fuelType.sort_values(by='count', ascending=False)\n",
        "df_agg_fuelType['percent_of_cars'] = (df_agg_fuelType['count']/df_agg_fuelType['count'].sum())*100\n",
        "\n",
        "df_agg_fuelType['sum'] = df_agg_fuelType['sum']/1000000\n",
        "\n",
        "# Rounding for  two decimal points\n",
        "df_agg_fuelType = df_agg_fuelType.round(2)\n",
        "\n",
        "# Removing the count column\n",
        "df_agg_fuelType = df_agg_fuelType.drop('count', axis=1)\n",
        "\n",
        "display(df_agg_fuelType.head())\n",
        "\n",
        "\n",
        "# Creating bar plot based on Transmission type\n",
        "plt.figure(figsize=(20,8))\n",
        "\n",
        "plt.subplot(1, 3, 1)\n",
        "sns.barplot(x='percent_of_cars', y=df_agg_fuelType.index, data=df_agg_fuelType, orient='h', color='blue')\n",
        "plt.xticks(rotation=90)\n",
        "plt.title(\"Percentage of cars in each model\")\n",
        "plt.xlabel(\"Percentage of cars (%)\")\n",
        "\n",
        "plt.subplot(1, 3, 2)\n",
        "sns.barplot(x='mean', y=df_agg_fuelType.index, data=df_agg_fuelType, orient='h', color='orange')\n",
        "plt.title(\"Average resale value of the cars of each model\")\n",
        "plt.xticks(rotation=90)\n",
        "plt.xlabel(\"Average price ($)\")\n",
        "plt.ylabel(\"\")\n",
        "\n",
        "plt.subplot(1, 3, 3)\n",
        "sns.barplot(x='sum', y=df_agg_fuelType.index, data=df_agg_fuelType, orient='h', color='green')\n",
        "plt.title(\"total resale value of the cars by each model\")\n",
        "plt.xticks(rotation=90)\n",
        "plt.xlabel(\"Total price in million $\")\n",
        "plt.ylabel(\"\")\n",
        "\n",
        "#.suptitle(\"Barplot of the AUDI used car\")\n",
        "plt.tight_layout()\n",
        "plt.show()\n"
      ],
      "metadata": {
        "colab": {
          "base_uri": "https://localhost:8080/",
          "height": 0
        },
        "id": "rdSBXiUF9WtV",
        "outputId": "4a271766-a065-47ac-c9d5-40be62a8e41f"
      },
      "execution_count": 22,
      "outputs": [
        {
          "output_type": "display_data",
          "data": {
            "text/plain": [
              "              mean     sum  percent_of_cars\n",
              "fuelType                                   \n",
              "Diesel    23237.52  129.60            52.28\n",
              "Petrol    22480.91  113.82            47.46\n",
              "Hybrid    30191.75    0.85             0.26"
            ],
            "text/html": [
              "\n",
              "  <div id=\"df-f150421a-77c9-4f45-83eb-eee666885d2d\">\n",
              "    <div class=\"colab-df-container\">\n",
              "      <div>\n",
              "<style scoped>\n",
              "    .dataframe tbody tr th:only-of-type {\n",
              "        vertical-align: middle;\n",
              "    }\n",
              "\n",
              "    .dataframe tbody tr th {\n",
              "        vertical-align: top;\n",
              "    }\n",
              "\n",
              "    .dataframe thead th {\n",
              "        text-align: right;\n",
              "    }\n",
              "</style>\n",
              "<table border=\"1\" class=\"dataframe\">\n",
              "  <thead>\n",
              "    <tr style=\"text-align: right;\">\n",
              "      <th></th>\n",
              "      <th>mean</th>\n",
              "      <th>sum</th>\n",
              "      <th>percent_of_cars</th>\n",
              "    </tr>\n",
              "    <tr>\n",
              "      <th>fuelType</th>\n",
              "      <th></th>\n",
              "      <th></th>\n",
              "      <th></th>\n",
              "    </tr>\n",
              "  </thead>\n",
              "  <tbody>\n",
              "    <tr>\n",
              "      <th>Diesel</th>\n",
              "      <td>23237.52</td>\n",
              "      <td>129.60</td>\n",
              "      <td>52.28</td>\n",
              "    </tr>\n",
              "    <tr>\n",
              "      <th>Petrol</th>\n",
              "      <td>22480.91</td>\n",
              "      <td>113.82</td>\n",
              "      <td>47.46</td>\n",
              "    </tr>\n",
              "    <tr>\n",
              "      <th>Hybrid</th>\n",
              "      <td>30191.75</td>\n",
              "      <td>0.85</td>\n",
              "      <td>0.26</td>\n",
              "    </tr>\n",
              "  </tbody>\n",
              "</table>\n",
              "</div>\n",
              "      <button class=\"colab-df-convert\" onclick=\"convertToInteractive('df-f150421a-77c9-4f45-83eb-eee666885d2d')\"\n",
              "              title=\"Convert this dataframe to an interactive table.\"\n",
              "              style=\"display:none;\">\n",
              "        \n",
              "  <svg xmlns=\"http://www.w3.org/2000/svg\" height=\"24px\"viewBox=\"0 0 24 24\"\n",
              "       width=\"24px\">\n",
              "    <path d=\"M0 0h24v24H0V0z\" fill=\"none\"/>\n",
              "    <path d=\"M18.56 5.44l.94 2.06.94-2.06 2.06-.94-2.06-.94-.94-2.06-.94 2.06-2.06.94zm-11 1L8.5 8.5l.94-2.06 2.06-.94-2.06-.94L8.5 2.5l-.94 2.06-2.06.94zm10 10l.94 2.06.94-2.06 2.06-.94-2.06-.94-.94-2.06-.94 2.06-2.06.94z\"/><path d=\"M17.41 7.96l-1.37-1.37c-.4-.4-.92-.59-1.43-.59-.52 0-1.04.2-1.43.59L10.3 9.45l-7.72 7.72c-.78.78-.78 2.05 0 2.83L4 21.41c.39.39.9.59 1.41.59.51 0 1.02-.2 1.41-.59l7.78-7.78 2.81-2.81c.8-.78.8-2.07 0-2.86zM5.41 20L4 18.59l7.72-7.72 1.47 1.35L5.41 20z\"/>\n",
              "  </svg>\n",
              "      </button>\n",
              "      \n",
              "  <style>\n",
              "    .colab-df-container {\n",
              "      display:flex;\n",
              "      flex-wrap:wrap;\n",
              "      gap: 12px;\n",
              "    }\n",
              "\n",
              "    .colab-df-convert {\n",
              "      background-color: #E8F0FE;\n",
              "      border: none;\n",
              "      border-radius: 50%;\n",
              "      cursor: pointer;\n",
              "      display: none;\n",
              "      fill: #1967D2;\n",
              "      height: 32px;\n",
              "      padding: 0 0 0 0;\n",
              "      width: 32px;\n",
              "    }\n",
              "\n",
              "    .colab-df-convert:hover {\n",
              "      background-color: #E2EBFA;\n",
              "      box-shadow: 0px 1px 2px rgba(60, 64, 67, 0.3), 0px 1px 3px 1px rgba(60, 64, 67, 0.15);\n",
              "      fill: #174EA6;\n",
              "    }\n",
              "\n",
              "    [theme=dark] .colab-df-convert {\n",
              "      background-color: #3B4455;\n",
              "      fill: #D2E3FC;\n",
              "    }\n",
              "\n",
              "    [theme=dark] .colab-df-convert:hover {\n",
              "      background-color: #434B5C;\n",
              "      box-shadow: 0px 1px 3px 1px rgba(0, 0, 0, 0.15);\n",
              "      filter: drop-shadow(0px 1px 2px rgba(0, 0, 0, 0.3));\n",
              "      fill: #FFFFFF;\n",
              "    }\n",
              "  </style>\n",
              "\n",
              "      <script>\n",
              "        const buttonEl =\n",
              "          document.querySelector('#df-f150421a-77c9-4f45-83eb-eee666885d2d button.colab-df-convert');\n",
              "        buttonEl.style.display =\n",
              "          google.colab.kernel.accessAllowed ? 'block' : 'none';\n",
              "\n",
              "        async function convertToInteractive(key) {\n",
              "          const element = document.querySelector('#df-f150421a-77c9-4f45-83eb-eee666885d2d');\n",
              "          const dataTable =\n",
              "            await google.colab.kernel.invokeFunction('convertToInteractive',\n",
              "                                                     [key], {});\n",
              "          if (!dataTable) return;\n",
              "\n",
              "          const docLinkHtml = 'Like what you see? Visit the ' +\n",
              "            '<a target=\"_blank\" href=https://colab.research.google.com/notebooks/data_table.ipynb>data table notebook</a>'\n",
              "            + ' to learn more about interactive tables.';\n",
              "          element.innerHTML = '';\n",
              "          dataTable['output_type'] = 'display_data';\n",
              "          await google.colab.output.renderOutput(dataTable, element);\n",
              "          const docLink = document.createElement('div');\n",
              "          docLink.innerHTML = docLinkHtml;\n",
              "          element.appendChild(docLink);\n",
              "        }\n",
              "      </script>\n",
              "    </div>\n",
              "  </div>\n",
              "  "
            ]
          },
          "metadata": {}
        },
        {
          "output_type": "display_data",
          "data": {
            "text/plain": [
              "<Figure size 1440x576 with 3 Axes>"
            ],
            "image/png": "[encoded data removed]"
          },
          "metadata": {}
        }
      ]
    },
    {
      "cell_type": "markdown",
      "source": [
        "### **Data train for ML **"
      ],
      "metadata": {
        "id": "KwcONU1CC-eu"
      }
    },
    {
      "cell_type": "code",
      "source": [
        "df.columns"
      ],
      "metadata": {
        "colab": {
          "base_uri": "https://localhost:8080/"
        },
        "id": "oBBQd2CVCzYU",
        "outputId": "0ada53ae-1a81-462b-f964-59a8cd02563b"
      },
      "execution_count": 36,
      "outputs": [
        {
          "output_type": "execute_result",
          "data": {
            "text/plain": [
              "Index(['model', 'year', 'price', 'transmission', 'mileage', 'fuelType', 'mpg',\n",
              "       'engineSize'],\n",
              "      dtype='object')"
            ]
          },
          "metadata": {},
          "execution_count": 36
        }
      ]
    },
    {
      "cell_type": "code",
      "source": [
        "features = ['year', 'mpg', 'engineSize']\n",
        "target = ['price']\n",
        "\n",
        "X = df[features]\n",
        "y = df[target]\n",
        "\n",
        "print(\"Shape of X = \", X.shape)\n",
        "print(\"Shape of y = \", y.shape)"
      ],
      "metadata": {
        "colab": {
          "base_uri": "https://localhost:8080/"
        },
        "id": "jWUGbaUnC3KR",
        "outputId": "82ef2097-e40b-410d-b8a4-4b9226c0de76"
      },
      "execution_count": 37,
      "outputs": [
        {
          "output_type": "stream",
          "name": "stdout",
          "text": [
            "Shape of X =  (10668, 3)\n",
            "Shape of y =  (10668, 1)\n"
          ]
        }
      ]
    },
    {
      "cell_type": "markdown",
      "source": [
        "### Split train and test set\n"
      ],
      "metadata": {
        "id": "Sb9yLnoaMU9y"
      }
    },
    {
      "cell_type": "code",
      "source": [
        "X_train, X_test, y_train, y_test = train_test_split(X, \n",
        "                                                    y,\n",
        "                                                    test_size=0.2, \n",
        "                                                    random_state=42)\n",
        "\n",
        "print(X_train.shape, X_test.shape, y_train.shape, y_test.shape)"
      ],
      "metadata": {
        "colab": {
          "base_uri": "https://localhost:8080/"
        },
        "id": "8k59uEbaC4DY",
        "outputId": "42c0f58c-5932-4bcf-a980-d2f972b8f439"
      },
      "execution_count": 38,
      "outputs": [
        {
          "output_type": "stream",
          "name": "stdout",
          "text": [
            "(8534, 3) (2134, 3) (8534, 1) (2134, 1)\n"
          ]
        }
      ]
    },
    {
      "cell_type": "markdown",
      "source": [
        "### **Applied Linear Regression Model**"
      ],
      "metadata": {
        "id": "e7pi430hMiXh"
      }
    },
    {
      "cell_type": "code",
      "source": [
        "model = LinearRegression()\n",
        "model = model.fit(X_train, y_train)"
      ],
      "metadata": {
        "id": "ic1CpHqgC4AC"
      },
      "execution_count": 39,
      "outputs": []
    },
    {
      "cell_type": "code",
      "source": [
        "y_pred = model.predict(X_test)\n",
        "print(y_pred)"
      ],
      "metadata": {
        "colab": {
          "base_uri": "https://localhost:8080/"
        },
        "id": "V_JBb5eWC39C",
        "outputId": "3eb2d044-f643-42a6-fb6f-10b9858054d1"
      },
      "execution_count": 40,
      "outputs": [
        {
          "output_type": "stream",
          "name": "stdout",
          "text": [
            "[[ 6537.60803003]\n",
            " [24835.2384761 ]\n",
            " [29552.93488251]\n",
            " ...\n",
            " [14912.49399673]\n",
            " [24835.2384761 ]\n",
            " [14319.69557011]]\n"
          ]
        }
      ]
    },
    {
      "cell_type": "code",
      "source": [
        "print(y_test,y_train)\n"
      ],
      "metadata": {
        "colab": {
          "base_uri": "https://localhost:8080/"
        },
        "id": "sB534jRiC356",
        "outputId": "93d59fc2-9670-4d06-963c-d8f548407bd9"
      },
      "execution_count": 43,
      "outputs": [
        {
          "output_type": "stream",
          "name": "stdout",
          "text": [
            "       price\n",
            "10442   9990\n",
            "2907   22382\n",
            "7388   28990\n",
            "3016   30777\n",
            "7890   14950\n",
            "...      ...\n",
            "8606   31450\n",
            "8977   12900\n",
            "3673   16750\n",
            "1034   21996\n",
            "6867    9547\n",
            "\n",
            "[2134 rows x 1 columns]       price\n",
            "5398  20630\n",
            "5860  13495\n",
            "906   29888\n",
            "8065  11299\n",
            "6520  19946\n",
            "...     ...\n",
            "5734  47450\n",
            "5191  13490\n",
            "5390  23766\n",
            "860   20990\n",
            "7270  21990\n",
            "\n",
            "[8534 rows x 1 columns]\n"
          ]
        }
      ]
    },
    {
      "cell_type": "markdown",
      "source": [
        "### **Find Prediction Error**\n"
      ],
      "metadata": {
        "id": "PWTjQxl9MIYp"
      }
    },
    {
      "cell_type": "code",
      "source": [
        "MAE = mean_absolute_error(y_test, y_pred)\n",
        "print(\"MAE = \", MAE)\n",
        "\n",
        "MSE = mean_squared_error(y_test, y_pred, squared=True)\n",
        "print(\"MSE = \", MSE)\n",
        "\n",
        "RMSE = mean_squared_error(y_test, y_pred, squared=False)\n",
        "print(\"RMSE = \", RMSE)\n",
        "\n",
        "r2 = r2_score(y_test, y_pred)\n",
        "print(\"r_squared = \", r2)"
      ],
      "metadata": {
        "colab": {
          "base_uri": "https://localhost:8080/"
        },
        "id": "pmgZqZDZC33A",
        "outputId": "006dc9b0-abe7-4d2a-d196-8b2938943b56"
      },
      "execution_count": 42,
      "outputs": [
        {
          "output_type": "stream",
          "name": "stdout",
          "text": [
            "MAE =  3659.5404239203694\n",
            "MSE =  34116315.623960055\n",
            "RMSE =  5840.917361507527\n",
            "r_squared =  0.7742577335950759\n"
          ]
        }
      ]
    }
  ]
}